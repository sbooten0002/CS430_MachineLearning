{
 "cells": [
  {
   "cell_type": "markdown",
   "metadata": {},
   "source": [
    "# Createing Numpy Arrays"
   ]
  },
  {
   "cell_type": "markdown",
   "metadata": {},
   "source": [
    "Start by installing numpy and then importing numpy as np "
   ]
  },
  {
   "cell_type": "code",
   "execution_count": 1,
   "metadata": {},
   "outputs": [
    {
     "name": "stdout",
     "output_type": "stream",
     "text": [
      "Collecting NUMPY\n",
      "  Downloading numpy-1.23.2-cp38-cp38-win_amd64.whl (14.7 MB)\n",
      "     --------------------------------------- 14.7/14.7 MB 28.5 MB/s eta 0:00:00\n",
      "Installing collected packages: NUMPY\n",
      "Successfully installed NUMPY-1.23.2\n",
      "Note: you may need to restart the kernel to use updated packages.\n"
     ]
    }
   ],
   "source": [
    "pip install NUMPY"
   ]
  },
  {
   "cell_type": "code",
   "execution_count": 2,
   "metadata": {},
   "outputs": [],
   "source": [
    "import numpy as np"
   ]
  },
  {
   "cell_type": "markdown",
   "metadata": {},
   "source": [
    "Once Numpy has been installed start creating arrays w/ built in functions in Numpy. \n",
    "1st use the arrange() functions to create an evenly spaced array with the following lines of code: "
   ]
  },
  {
   "cell_type": "code",
   "execution_count": 3,
   "metadata": {},
   "outputs": [
    {
     "name": "stdout",
     "output_type": "stream",
     "text": [
      "[0 1 2 3 4 5 6 7 8 9]\n"
     ]
    }
   ],
   "source": [
    "#creates a range from 0 to 9\n",
    "al = np.arange(10) \n",
    "\n",
    "# 0 1 2 3 4 5 6 7 8 9\n",
    "print(al)"
   ]
  },
  {
   "cell_type": "code",
   "execution_count": 4,
   "metadata": {},
   "outputs": [
    {
     "name": "stdout",
     "output_type": "stream",
     "text": [
      "(10,)\n"
     ]
    }
   ],
   "source": [
    "#10\n",
    "print(al.shape)"
   ]
  },
  {
   "cell_type": "markdown",
   "metadata": {},
   "source": [
    "To specigy a step in the arrange() function. "
   ]
  },
  {
   "cell_type": "code",
   "execution_count": 6,
   "metadata": {},
   "outputs": [
    {
     "name": "stdout",
     "output_type": "stream",
     "text": [
      "[0 2 4 6 8]\n"
     ]
    }
   ],
   "source": [
    "#creates a range from 0 to 9, step 2\n",
    "a2 = np.arange(0,10,2)\n",
    "print(a2)"
   ]
  },
  {
   "cell_type": "markdown",
   "metadata": {},
   "source": [
    "To create an array of a specific size filled with 0s, use the zeros() function in the following code: "
   ]
  },
  {
   "cell_type": "code",
   "execution_count": 8,
   "metadata": {},
   "outputs": [
    {
     "name": "stdout",
     "output_type": "stream",
     "text": [
      "[0. 0. 0. 0. 0.]\n",
      "(5,)\n"
     ]
    }
   ],
   "source": [
    "a3 = np.zeros(5) # create an array with all 0s\n",
    "print(a3) # [ 0.  0.  0.  0.  0.]\n",
    "print(a3.shape) # (5,) \n"
   ]
  },
  {
   "cell_type": "markdown",
   "metadata": {},
   "source": [
    "\n",
    "You can aslo create 2-d arrays useing the zeros() functions. The following line of code demostrates this: "
   ]
  },
  {
   "cell_type": "code",
   "execution_count": 9,
   "metadata": {},
   "outputs": [
    {
     "name": "stdout",
     "output_type": "stream",
     "text": [
      "(2, 3)\n",
      "[[0. 0. 0.]\n",
      " [0. 0. 0.]]\n"
     ]
    }
   ],
   "source": [
    "a4 = np.zeros((2,3)) # array of rank 2 with all 0s; 2 rows and 3 columns \n",
    "print(a4.shape) # (2,3)\n",
    "print(a4)   \n"
   ]
  },
  {
   "cell_type": "markdown",
   "metadata": {},
   "source": [
    "To fill an array with specific number instead of 0, use the full() function in the following lines of code:\n"
   ]
  },
  {
   "cell_type": "code",
   "execution_count": 10,
   "metadata": {},
   "outputs": [
    {
     "name": "stdout",
     "output_type": "stream",
     "text": [
      "[[8 8 8]\n",
      " [8 8 8]]\n"
     ]
    }
   ],
   "source": [
    "a5 = np.full((2,3), 8) # array of rank 2 with all 8s\n",
    "print(a5) "
   ]
  },
  {
   "cell_type": "markdown",
   "metadata": {},
   "source": [
    "To create an array that mirros an identity matrix in NumPy, you can do so using the eye() function. "
   ]
  },
  {
   "cell_type": "code",
   "execution_count": 11,
   "metadata": {},
   "outputs": [
    {
     "name": "stdout",
     "output_type": "stream",
     "text": [
      "[[1. 0. 0. 0.]\n",
      " [0. 1. 0. 0.]\n",
      " [0. 0. 1. 0.]\n",
      " [0. 0. 0. 1.]]\n"
     ]
    }
   ],
   "source": [
    " a6 = np.eye(4) # 4x4 identity matrix\n",
    " print(a6)     "
   ]
  },
  {
   "cell_type": "markdown",
   "metadata": {},
   "source": [
    "To create an array filled with random numbers, you can use the random() function from numpy.random module: "
   ]
  },
  {
   "cell_type": "code",
   "execution_count": 12,
   "metadata": {},
   "outputs": [
    {
     "name": "stdout",
     "output_type": "stream",
     "text": [
      "[[0.09197071 0.86184624 0.52518634 0.84351667]\n",
      " [0.48552909 0.07597848 0.62800314 0.00970685]]\n"
     ]
    }
   ],
   "source": [
    "a7 = np.random.random((2,4))   # rank 2 array (2 rows 4 columns) with # random                values\n",
    "print(a7) "
   ]
  },
  {
   "cell_type": "markdown",
   "metadata": {},
   "source": [
    "Another way to creat a Numpy array is to create it from a Python list as follows: "
   ]
  },
  {
   "cell_type": "code",
   "execution_count": 13,
   "metadata": {},
   "outputs": [
    {
     "name": "stdout",
     "output_type": "stream",
     "text": [
      "[1 2 3 4 5]\n"
     ]
    }
   ],
   "source": [
    " list1 = [1,2,3,4,5] # list1 is a list in Python\n",
    " r1 = np.array(list1) # rank 1 array\n",
    " print(r1) # [1 2 3 4 5]\n"
   ]
  },
  {
   "cell_type": "markdown",
   "metadata": {},
   "source": [
    "# Array Indexing \n",
    "The following code creates another array named r2, which is 2-d: \n",
    "\n"
   ]
  },
  {
   "cell_type": "code",
   "execution_count": 14,
   "metadata": {},
   "outputs": [
    {
     "name": "stdout",
     "output_type": "stream",
     "text": [
      "[[1 2 3 4 5]\n",
      " [6 7 8 9 0]]\n",
      "(2, 5)\n",
      "1\n",
      "2\n",
      "6\n"
     ]
    }
   ],
   "source": [
    " list2 = [6,7,8,9,0]\n",
    " r2 = np.array([[1,2,3,4,5] , [6,7,8,9,0]])\n",
    " # rank 2 array\n",
    "print(r2) \n",
    "print(r2.shape) # (2,5) \n",
    "print(r2[0,0]) # 1\n",
    "print(r2[0,1]) # 2\n",
    "print(r2[1,0]) # 6\n"
   ]
  },
  {
   "cell_type": "markdown",
   "metadata": {},
   "source": [
    "# Boolean Indexing \n"
   ]
  },
  {
   "cell_type": "code",
   "execution_count": 15,
   "metadata": {},
   "outputs": [
    {
     "name": "stdout",
     "output_type": "stream",
     "text": [
      "[False False  True  True  True]\n",
      "[3 4 5]\n"
     ]
    }
   ],
   "source": [
    "print(r1>2) # [False False True True True]\n",
    "print(r1[r1>2]) # [3 4 5] \n"
   ]
  },
  {
   "cell_type": "markdown",
   "metadata": {},
   "source": [
    "Consider the following example"
   ]
  },
  {
   "cell_type": "code",
   "execution_count": 16,
   "metadata": {},
   "outputs": [
    {
     "name": "stdout",
     "output_type": "stream",
     "text": [
      "[ 0  1  2  3  4  5  6  7  8  9 10 11 12 13 14 15 16 17 18 19]\n"
     ]
    }
   ],
   "source": [
    "nums = np.arange(20)\n",
    "print(nums) "
   ]
  },
  {
   "cell_type": "markdown",
   "metadata": {},
   "source": [
    "If you want all the odd #'s froma the list, use Boolean indexing:"
   ]
  },
  {
   "cell_type": "code",
   "execution_count": 18,
   "metadata": {},
   "outputs": [
    {
     "name": "stdout",
     "output_type": "stream",
     "text": [
      "[ 1  3  5  7  9 11 13 15 17 19]\n"
     ]
    }
   ],
   "source": [
    "odd_num = nums[nums % 2 == 1]\n",
    "print(odd_num) "
   ]
  },
  {
   "cell_type": "markdown",
   "metadata": {},
   "source": [
    "# Slicing Arrays \n",
    "Slicing in NumPy arrays is similar to how it works w/ a Python list\n",
    "Consider the following example:"
   ]
  },
  {
   "cell_type": "code",
   "execution_count": 19,
   "metadata": {},
   "outputs": [
    {
     "name": "stdout",
     "output_type": "stream",
     "text": [
      "[[1 2 3 4 5]\n",
      " [4 5 6 7 8]\n",
      " [9 8 7 6 5]]\n"
     ]
    }
   ],
   "source": [
    "a = np.array([[1,2,3,4,5], [4,5,6,7,8], [9,8,7,6,5]]) # rank 2 array\n",
    "print(a) "
   ]
  },
  {
   "cell_type": "markdown",
   "metadata": {},
   "source": [
    "Extract the last two rows and first two columns, use slicing: "
   ]
  },
  {
   "cell_type": "code",
   "execution_count": 21,
   "metadata": {},
   "outputs": [
    {
     "name": "stdout",
     "output_type": "stream",
     "text": [
      "[[4 5 6]\n",
      " [9 8 7]]\n"
     ]
    }
   ],
   "source": [
    "b1 = a[1:3, :3] # row 1 to 3 (not inclusive) and first 3 columns\n",
    "print(b1)"
   ]
  },
  {
   "cell_type": "markdown",
   "metadata": {},
   "source": [
    "# Reshaping Arrays\n",
    "The reshape() function is used to change the dimensions of an array. "
   ]
  },
  {
   "cell_type": "code",
   "execution_count": 23,
   "metadata": {},
   "outputs": [
    {
     "name": "stdout",
     "output_type": "stream",
     "text": [
      "[[9 8 7 6 5]]\n"
     ]
    }
   ],
   "source": [
    "b5 = np.array([9,8,7,6,5])\n",
    "''' using b5 ( which is rank 1 array)ex, you can reshape it to a rank 2 \n",
    "array as follows:  '''\n",
    "b5 = b5.reshape(1,-1)\n",
    "print(b5)"
   ]
  },
  {
   "cell_type": "markdown",
   "metadata": {},
   "source": [
    "In the above cell,you call the reshape() function with two arguments. The first 1 indicates that you want to convert it into rank 2 array with 1 row, and the ‐1 indicates that you will leave it to the reshape() function to create the correct number of columns. \n",
    "\n",
    "In more complex cases, however, it is always convenient to be able to use ‐1 to let the function decide on the number of rows or columns to create.\n",
    "\n",
    "Here is another example of how to reshape b5 (which is a rank 2 array) to rank 1: b5.reshape(-1,) ''' [9 8 7 6 5] ''' The ‐1 indicates that you let the function decide how many rows to create as long as the end result is a rank 1 array.\n",
    "\n"
   ]
  },
  {
   "cell_type": "markdown",
   "metadata": {},
   "source": [
    "To convert a rank 2 array to a rank 1 array, you can also use the flatten() or ravel() functions. The flatten() function always returns a copy of the array, while the ravel() and reshape() functions return a view (reference) of the original array.\n"
   ]
  },
  {
   "cell_type": "code",
   "execution_count": 24,
   "metadata": {},
   "outputs": [
    {
     "data": {
      "text/plain": [
       "array([1, 2, 3, 4, 5, 6, 7, 8])"
      ]
     },
     "execution_count": 24,
     "metadata": {},
     "output_type": "execute_result"
    }
   ],
   "source": [
    "r2= np.array([[1,2,3,4],[5,6,7,8]])  \n",
    "r2.ravel()"
   ]
  },
  {
   "cell_type": "markdown",
   "metadata": {},
   "source": [
    "# Array Math "
   ]
  },
  {
   "cell_type": "code",
   "execution_count": 25,
   "metadata": {},
   "outputs": [
    {
     "name": "stdout",
     "output_type": "stream",
     "text": [
      "[[ 8 10 12]\n",
      " [ 6  8 10]]\n"
     ]
    }
   ],
   "source": [
    "x1 = np.array([[1,2,3],[4,5,6]])\n",
    "y1 = np.array([[7,8,9],[2,3,4]])\n",
    "\n",
    "# to add together usee '+' operator as follows:\n",
    "print(x1+ y1)"
   ]
  },
  {
   "cell_type": "markdown",
   "metadata": {},
   "source": [
    "Array math is important, as it can be used to perform vector calculations. A good example is as follows:\n"
   ]
  },
  {
   "cell_type": "code",
   "execution_count": 30,
   "metadata": {},
   "outputs": [
    {
     "ename": "SyntaxError",
     "evalue": "EOF while scanning triple-quoted string literal (1335460173.py, line 3)",
     "output_type": "error",
     "traceback": [
      "\u001b[1;36m  Input \u001b[1;32mIn [30]\u001b[1;36m\u001b[0m\n\u001b[1;33m    z = x + y'''[6,5]\u001b[0m\n\u001b[1;37m                     ^\u001b[0m\n\u001b[1;31mSyntaxError\u001b[0m\u001b[1;31m:\u001b[0m EOF while scanning triple-quoted string literal\n"
     ]
    }
   ],
   "source": [
    " x = np.array([2,3])\n",
    " y = np.array([4,2])\n",
    " z = x + y'''[6,5]"
   ]
  },
  {
   "cell_type": "markdown",
   "metadata": {},
   "source": [
    "You can also use the np.add() function to add two arrays: "
   ]
  },
  {
   "cell_type": "code",
   "execution_count": 32,
   "metadata": {},
   "outputs": [
    {
     "data": {
      "text/plain": [
       "array([[ 8, 10, 12],\n",
       "       [ 6,  8, 10]])"
      ]
     },
     "execution_count": 32,
     "metadata": {},
     "output_type": "execute_result"
    }
   ],
   "source": [
    " x1 = np.array([[1,2,3],[4,5,6]])\n",
    " y1 = np.array([[7,8,9],[2,3,4]])\n",
    "np.add(x1,y1)\n"
   ]
  },
  {
   "cell_type": "markdown",
   "metadata": {},
   "source": [
    "You can also perform subtraction, multiplication, as well as division with NumPy arrays:\n",
    "\n"
   ]
  },
  {
   "cell_type": "code",
   "execution_count": 33,
   "metadata": {},
   "outputs": [
    {
     "name": "stdout",
     "output_type": "stream",
     "text": [
      "[[-6 -6 -6]\n",
      " [ 2  2  2]]\n",
      "[[ 7 16 27]\n",
      " [ 8 15 24]]\n",
      "[[0.14285714 0.25       0.33333333]\n",
      " [2.         1.66666667 1.5       ]]\n"
     ]
    }
   ],
   "source": [
    "print(x1 - y1) # same as np.subtract(x1,y1) ''' [[-6 -6 -6] [ 2 2 2]] ''‘\n",
    "print(x1 * y1) # same as np.multiply(x1,y1) ''' [[ 7 16 27] [ 8 15 24]] ''' \n",
    "print(x1 / y1)"
   ]
  },
  {
   "cell_type": "markdown",
   "metadata": {},
   "source": [
    "## Dot Product \n",
    "Dot Product:\n",
    "given two vectors—a = [a1, a2, …, an] and b = [b1, b2, …, bn]—the dot product of these two vectors is a1b1 + a2b2 + … + anbn.\n",
    "In NumPy, dot product is accomplished using the dot() function:\n"
   ]
  },
  {
   "cell_type": "code",
   "execution_count": 34,
   "metadata": {},
   "outputs": [
    {
     "data": {
      "text/plain": [
       "14"
      ]
     },
     "execution_count": 34,
     "metadata": {},
     "output_type": "execute_result"
    }
   ],
   "source": [
    "x = np.array([2,3]) \n",
    "y = np.array([4,2])\n",
    "np.dot(x,y) # 2x4 + 3x2 = 14\n"
   ]
  },
  {
   "cell_type": "markdown",
   "metadata": {},
   "source": [
    "Dot products also work on rank 2 arrays. If you perform a dot product of two rank 2 arrays, it is equivalent to the following matrix multiplication:\n"
   ]
  },
  {
   "cell_type": "code",
   "execution_count": 35,
   "metadata": {},
   "outputs": [
    {
     "name": "stdout",
     "output_type": "stream",
     "text": [
      "[[ 58  64]\n",
      " [139 154]]\n"
     ]
    }
   ],
   "source": [
    " x2 = np.array([[1,2,3],[4,5,6]])\n",
    " y2 = np.array([[7,8],[9,10], [11,12]]) \n",
    "print(np.dot(x2,y2)) "
   ]
  },
  {
   "cell_type": "markdown",
   "metadata": {},
   "source": [
    "## Matrix \n",
    "\n",
    "a matrix is strictly two‐dimensional, while an ndarray can be multidimensional.\n",
    "Creating a matrix object is similar to creating a NumPy array:\n"
   ]
  },
  {
   "cell_type": "code",
   "execution_count": 37,
   "metadata": {},
   "outputs": [],
   "source": [
    " x2 = np.matrix([[1,2],[4,5]])\n",
    " y2 = np.matrix([[7,8],[2,3]])\n",
    "#You can also convert a NumPy array to a matrix using the asmatrix() function:\n",
    " x1 = np.array([[1,2],[4,5]])\n",
    " y1 = np.array([[7,8],[2,3]])\n",
    " x1 = np.asmatrix(x1)\n",
    " y1 = np.asmatrix(y1)\n"
   ]
  },
  {
   "cell_type": "markdown",
   "metadata": {},
   "source": [
    "# Cont on Matrix \n",
    "Another important difference between an ndarray and a matrix occurs when you perform multiplications on them.\n",
    "When multiplying two ndarray objects, the result is the element‐by‐element multiplication. On the other hand, when multiplying two matrix objects, the result is the dot product (equivalent to the np.dot() function):\n"
   ]
  },
  {
   "cell_type": "code",
   "execution_count": 38,
   "metadata": {},
   "outputs": [
    {
     "name": "stdout",
     "output_type": "stream",
     "text": [
      "[[ 7 16]\n",
      " [ 8 15]]\n",
      "[[11 14]\n",
      " [38 47]]\n"
     ]
    }
   ],
   "source": [
    " x1 = np.array([[1,2],[4,5]])\n",
    " y1 = np.array([[7,8],[2,3]])\n",
    " print(x1 * y1) # element-by-element multiplication ''' [[ 7 16] [ 8 15]] ''‘\n",
    " x2 = np.matrix([[1,2],[4,5]])\n",
    " y2 = np.matrix([[7,8],[2,3]])\n",
    " print(x2 * y2) # dot product; same as np.dot() "
   ]
  },
  {
   "cell_type": "markdown",
   "metadata": {},
   "source": [
    "## Cumulative Sum \n",
    "When dealing with When dealing with numerical data, there is a need to find the cumulative sum of numbers in a NumPy array. Consider the following array:\n"
   ]
  },
  {
   "cell_type": "code",
   "execution_count": 40,
   "metadata": {},
   "outputs": [
    {
     "name": "stdout",
     "output_type": "stream",
     "text": [
      "[[1 2 3 4 5]\n",
      " [4 5 6 7 8]\n",
      " [9 8 7 6 5]]\n"
     ]
    },
    {
     "data": {
      "text/plain": [
       "'You can call the cumsum() function to get the \\ncumulative sum of the elements:\\n'"
      ]
     },
     "execution_count": 40,
     "metadata": {},
     "output_type": "execute_result"
    }
   ],
   "source": [
    "np.array([(1,2,3),(4,5,6), (7,8,9)]) \n",
    "print(a) \n",
    "'''You can call the cumsum() function to get the \n",
    "cumulative sum of the elements:\n",
    "'''"
   ]
  },
  {
   "cell_type": "markdown",
   "metadata": {},
   "source": [
    "# Go back to slide 18 and slide 19 we started on slide 20 in class\n"
   ]
  },
  {
   "cell_type": "markdown",
   "metadata": {},
   "source": [
    "#Numpy Sorting \n",
    "NumPy provides a number of efficient sorting functions that make it very easy to sort an array.\n",
    "The first function for sorting is sort(), which takes in an array and returns a sorted array.\n"
   ]
  },
  {
   "cell_type": "code",
   "execution_count": 42,
   "metadata": {},
   "outputs": [
    {
     "name": "stdout",
     "output_type": "stream",
     "text": [
      "[ 5 12 13 34 37]\n",
      "[34 12 37  5 13]\n"
     ]
    }
   ],
   "source": [
    " ages = np.array([34,12,37,5,13])\n",
    " sorted_ages = np.sort(ages) # does not modify the original array\n",
    "print(sorted_ages) # [ 5 12 13 34 37] \n",
    "print(ages) "
   ]
  },
  {
   "cell_type": "markdown",
   "metadata": {},
   "source": [
    "the sort() function does not modify the original array.\n",
    " Instead it returns a sorted array. If you want to sort the original array, call the sort() function on the array itself as follows:\n"
   ]
  },
  {
   "cell_type": "code",
   "execution_count": 43,
   "metadata": {},
   "outputs": [
    {
     "name": "stdout",
     "output_type": "stream",
     "text": [
      "[ 5 12 13 34 37]\n"
     ]
    }
   ],
   "source": [
    "ages.sort() # modifies the array\n",
    "print(ages) # [ 5 12 13 34 37]\n"
   ]
  },
  {
   "cell_type": "code",
   "execution_count": 44,
   "metadata": {},
   "outputs": [
    {
     "name": "stdout",
     "output_type": "stream",
     "text": [
      "[0 1 2 3 4]\n"
     ]
    }
   ],
   "source": [
    "#There is another function used for sorting—argsort(). \n",
    "example: ages = np.array([34,12,37,5,13]) \n",
    "print(ages.argsort()) # [3 1 4 0 2] \n"
   ]
  },
  {
   "cell_type": "markdown",
   "metadata": {},
   "source": [
    "The argsort() function returns the indices that will sort an array. In the preceding example, the first element (3) in the result of the argsort() function means that the smallest element after the sort is in index 3 of the original array, which is the number 5. The next number is in index 1, which is the number 12, and so on.\n"
   ]
  },
  {
   "cell_type": "markdown",
   "metadata": {},
   "source": [
    "Imagine that you have three arrays representing a list of people, along with their ages and heights: \n"
   ]
  },
  {
   "cell_type": "code",
   "execution_count": 47,
   "metadata": {},
   "outputs": [
    {
     "name": "stdout",
     "output_type": "stream",
     "text": [
      "['Will' 'Mary' 'Joe' 'Johnny' 'Peter']\n",
      "[ 5 12 13 34 37]\n",
      "[0.5  1.2  1.25 1.76 1.68]\n"
     ]
    }
   ],
   "source": [
    "persons = np.array(['Johnny','Mary','Peter','Will','Joe'])\n",
    "ages = np.array([34,12,37,5,13])\n",
    "heights = np.array([1.76,1.2,1.68,0.5,1.25])\n",
    "\n",
    "#Sorting the #'s in the following line of code \n",
    "sort_indices = np.argsort(ages) \n",
    "print(persons[sort_indices]) # ['Will' 'Mary' 'Joe' 'Johnny' 'Peter'] \n",
    "print(ages[sort_indices]) # [ 5 12 13 34 37]\n",
    "print(heights[sort_indices]) # [ 0.5 1.2 1.25 1.76 1.68]\n",
    "\n"
   ]
  },
  {
   "cell_type": "markdown",
   "metadata": {},
   "source": [
    "Suppose that you want to sort this group of people by age.\n",
    " If you simply sort the ages array by itself, the other two arrays would not be sorted correctly based on age. This is where argsort() comes in really handy\n"
   ]
  },
  {
   "cell_type": "markdown",
   "metadata": {},
   "source": [
    "### Sorting Ages\n",
    "sort_indices = np.argsort(ages) # performs a sort based on ages # and returns an array of indices # indicating the sort order Once the sort indices are obtained, simply feed them into the three arrays: \n"
   ]
  },
  {
   "cell_type": "code",
   "execution_count": 48,
   "metadata": {},
   "outputs": [
    {
     "name": "stdout",
     "output_type": "stream",
     "text": [
      "['Will' 'Mary' 'Joe' 'Johnny' 'Peter']\n",
      "[ 5 12 13 34 37]\n",
      "[0.5  1.2  1.25 1.76 1.68]\n"
     ]
    }
   ],
   "source": [
    "#Sorting the #'s in the following line of code \n",
    "sort_indices = np.argsort(ages) \n",
    "print(persons[sort_indices]) # ['Will' 'Mary' 'Joe' 'Johnny' 'Peter'] \n",
    "print(ages[sort_indices]) # [ 5 12 13 34 37]\n",
    "print(heights[sort_indices]) # [ 0.5 1.2 1.25 1.76 1.68]"
   ]
  },
  {
   "cell_type": "markdown",
   "metadata": {},
   "source": [
    "They would now be sorted based on age. As you can see, Will is the youngest, followed by Mary, and so on. The corresponding height for each person would also be in the correct order. \n"
   ]
  },
  {
   "cell_type": "markdown",
   "metadata": {},
   "source": [
    "### Sort By Name \n",
    "If you wish to sort based on name, then simply use argsort() on the persons array and feed the resulting indices into the three arrays: \n"
   ]
  },
  {
   "cell_type": "code",
   "execution_count": 49,
   "metadata": {},
   "outputs": [
    {
     "name": "stdout",
     "output_type": "stream",
     "text": [
      "['Joe' 'Johnny' 'Mary' 'Peter' 'Will']\n",
      "[13 34 12 37  5]\n",
      "[1.25 1.76 1.2  1.68 0.5 ]\n"
     ]
    }
   ],
   "source": [
    "sort_indices = np.argsort(persons) # sort based on names\n",
    "print(persons[sort_indices]) # ['Joe' 'Johnny' 'Mary' 'Peter' 'Will']\n",
    "print(ages[sort_indices]) # [13 34 12 37 5]\n",
    "print(heights[sort_indices]) # [ 1.25 1.76 1.2 1.68 0.5 ]\n"
   ]
  },
  {
   "cell_type": "code",
   "execution_count": null,
   "metadata": {},
   "outputs": [],
   "source": []
  }
 ],
 "metadata": {
  "kernelspec": {
   "display_name": "Python 3.8.13 ('MachineLeanering_430')",
   "language": "python",
   "name": "python3"
  },
  "language_info": {
   "codemirror_mode": {
    "name": "ipython",
    "version": 3
   },
   "file_extension": ".py",
   "mimetype": "text/x-python",
   "name": "python",
   "nbconvert_exporter": "python",
   "pygments_lexer": "ipython3",
   "version": "3.8.13"
  },
  "orig_nbformat": 4,
  "vscode": {
   "interpreter": {
    "hash": "feeef09c0763b02fc2f49843c03d11a9103669185170cfd27a11e7fa3941040f"
   }
  }
 },
 "nbformat": 4,
 "nbformat_minor": 2
}
