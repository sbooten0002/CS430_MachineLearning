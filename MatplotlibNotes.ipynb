{
 "cells": [
  {
   "cell_type": "code",
   "execution_count": null,
   "metadata": {},
   "outputs": [],
   "source": []
  }
 ],
 "metadata": {
  "kernelspec": {
   "display_name": "Python 3.8.12 ('DataScience')",
   "language": "python",
   "name": "python3"
  },
  "language_info": {
   "name": "python",
   "version": "3.8.12"
  },
  "orig_nbformat": 4,
  "vscode": {
   "interpreter": {
    "hash": "b66f39eae65462702bc4e789fbc1a1b76a4b5a1c260b50519319920734069de5"
   }
  }
 },
 "nbformat": 4,
 "nbformat_minor": 2
}
