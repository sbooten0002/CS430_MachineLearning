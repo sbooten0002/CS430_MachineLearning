{
 "cells": [
  {
   "cell_type": "markdown",
   "metadata": {},
   "source": [
    "# Assignment 1 \n",
    "**Name:** Savanna Booten\n",
    "\n",
    "**Class:** CS 430-Machine Learning \n",
    "\n",
    "**Date:** Sept. 19, 2022\n",
    "\n",
    "### Assigment 1: Problem 1 \n",
    "1. Using a Python dictionary create a pandas data frame that stores information about a basketball team. The data frame should have two columns. One column includes the names of the players in the team and the other column includes the points scored by each player in the last season.\n",
    "\n",
    "2. Draw a bar graph to show the points scored by each player.\n",
    "   \n",
    "    a.\tThe graph should include a title, X axis label, Y axis label, and a legend\n"
   ]
  },
  {
   "cell_type": "code",
   "execution_count": 13,
   "metadata": {},
   "outputs": [],
   "source": [
    "\n",
    "# To use for creating data tables\n",
    "import pandas as pd\n"
   ]
  },
  {
   "cell_type": "code",
   "execution_count": 17,
   "metadata": {},
   "outputs": [
    {
     "name": "stdout",
     "output_type": "stream",
     "text": [
      "0    1\n",
      "1    2\n",
      "2    3\n",
      "3    4\n",
      "4    5\n",
      "dtype: int64\n"
     ]
    }
   ],
   "source": [
    "# creating a series Players from Golden State \n",
    "#series = pd.series([\"Patrick\", \"Stephen\", \"Donte\", \"Draymond\"])\n",
    "series = pd.Series([1,2,3,4,5])\n",
    "print(series) \n",
    "\n"
   ]
  },
  {
   "cell_type": "code",
   "execution_count": null,
   "metadata": {},
   "outputs": [],
   "source": []
  }
 ],
 "metadata": {
  "kernelspec": {
   "display_name": "Python 3.8.13 ('MachineLeanering_430')",
   "language": "python",
   "name": "python3"
  },
  "language_info": {
   "codemirror_mode": {
    "name": "ipython",
    "version": 3
   },
   "file_extension": ".py",
   "mimetype": "text/x-python",
   "name": "python",
   "nbconvert_exporter": "python",
   "pygments_lexer": "ipython3",
   "version": "3.8.13"
  },
  "orig_nbformat": 4,
  "vscode": {
   "interpreter": {
    "hash": "feeef09c0763b02fc2f49843c03d11a9103669185170cfd27a11e7fa3941040f"
   }
  }
 },
 "nbformat": 4,
 "nbformat_minor": 2
}
