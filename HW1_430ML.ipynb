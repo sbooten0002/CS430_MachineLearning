{
 "cells": [
  {
   "cell_type": "markdown",
   "metadata": {},
   "source": [
    "# Assignment 1 \n",
    "**Name:** Savanna Booten\n",
    "\n",
    "**Class:** CS 430-Machine Learning \n",
    "\n",
    "**Date:** Sept. 19, 2022\n",
    "\n",
    "### Assigment 1: Problem 1 \n",
    "1. Using a Python dictionary create a pandas data frame that stores information about a basketball team. The data frame should have two columns. One column includes the names of the players in the team and the other column includes the points scored by each player in the last season.\n",
    "\n",
    "2. Draw a bar graph to show the points scored by each player.\n",
    "   \n",
    "    a.\tThe graph should include a title, X axis label, Y axis label, and a legend\n"
   ]
  },
  {
   "cell_type": "code",
   "execution_count": 2,
   "metadata": {},
   "outputs": [],
   "source": [
    "\n",
    "# To use for creating data tables\n",
    "import pandas as pd\n",
    "\n"
   ]
  },
  {
   "cell_type": "code",
   "execution_count": 11,
   "metadata": {},
   "outputs": [
    {
     "name": "stdout",
     "output_type": "stream",
     "text": [
      "             Player  Scored\n",
      "0     Stephen Curry      26\n",
      "1     Klay Thompson      20\n",
      "2      Jordan Poole      19\n",
      "3    Andrew Wiggins      17\n",
      "4  Jonathan Kuminga       9\n"
     ]
    }
   ],
   "source": [
    "# creating a series Players from Golden State \n",
    "#series = pd.series([\"Patrick\", \"Stephen\", \"Donte\", \"Draymond\"])\n",
    "\n",
    "lastseason = {'Player':['Stephen Curry', 'Klay Thompson', 'Jordan Poole','Andrew Wiggins', \n",
    "        'Jonathan Kuminga'],\n",
    "        'Scored':[26,20,19,17,9],}\n",
    "\n",
    "data = pd.DataFrame(lastseason,columns =['Player', 'Scored'])\n",
    "print(data)\n",
    "\n",
    "#slide 41\n"
   ]
  },
  {
   "cell_type": "code",
   "execution_count": null,
   "metadata": {},
   "outputs": [],
   "source": []
  }
 ],
 "metadata": {
  "kernelspec": {
   "display_name": "Python 3.8.13 ('MachineLeanering_430')",
   "language": "python",
   "name": "python3"
  },
  "language_info": {
   "codemirror_mode": {
    "name": "ipython",
    "version": 3
   },
   "file_extension": ".py",
   "mimetype": "text/x-python",
   "name": "python",
   "nbconvert_exporter": "python",
   "pygments_lexer": "ipython3",
   "version": "3.8.13"
  },
  "orig_nbformat": 4,
  "vscode": {
   "interpreter": {
    "hash": "feeef09c0763b02fc2f49843c03d11a9103669185170cfd27a11e7fa3941040f"
   }
  }
 },
 "nbformat": 4,
 "nbformat_minor": 2
}
