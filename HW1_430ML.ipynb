{
 "cells": [
  {
   "cell_type": "markdown",
   "metadata": {},
   "source": [
    "Problem 1:\n",
    " \n",
    "   \tI.          Using a Python dictionary create a pandas data frame that stores information about a basketball team. The data frame should have two columns. One column includes the names of the players on the team and the other column includes the points scored by each player in the last season.\n",
    "  \tII.          Draw a bar graph to show the points scored by each player.\n",
    "a.      The graph should include a title, X-axis label, Y-axis label, and a legend\n",
    " \n",
    " \n",
    "Problem 2:\n",
    "   \tI.          Add a column to the data frame you created in Problem 1, which represents the salary for each player.\n",
    "  \tII.          Draw a pie chart to show these salaries as patches on the chart.\n",
    "a.      The pie chart should have a title and a legend."
   ]
  }
 ],
 "metadata": {
  "kernelspec": {
   "display_name": "Python 3.8.13 ('MachineLeanering_430')",
   "language": "python",
   "name": "python3"
  },
  "language_info": {
   "name": "python",
   "version": "3.8.13"
  },
  "orig_nbformat": 4,
  "vscode": {
   "interpreter": {
    "hash": "feeef09c0763b02fc2f49843c03d11a9103669185170cfd27a11e7fa3941040f"
   }
  }
 },
 "nbformat": 4,
 "nbformat_minor": 2
}
